{
  "nbformat": 4,
  "nbformat_minor": 0,
  "metadata": {
    "colab": {
      "name": "Untitled2.ipynb",
      "provenance": [],
      "authorship_tag": "ABX9TyN4oW/BK977X9Vs/M59AqU9",
      "include_colab_link": true
    },
    "kernelspec": {
      "name": "python3",
      "display_name": "Python 3"
    },
    "language_info": {
      "name": "python"
    }
  },
  "cells": [
    {
      "cell_type": "markdown",
      "metadata": {
        "id": "view-in-github",
        "colab_type": "text"
      },
      "source": [
        "<a href=\"https://colab.research.google.com/github/natanrajch/subte_flow/blob/main/networkX_shortest_paths.ipynb\" target=\"_parent\"><img src=\"https://colab.research.google.com/assets/colab-badge.svg\" alt=\"Open In Colab\"/></a>"
      ]
    },
    {
      "cell_type": "code",
      "execution_count": 2,
      "metadata": {
        "id": "ViicZyVS-SRk"
      },
      "outputs": [],
      "source": [
        "import networkx as nx"
      ]
    },
    {
      "cell_type": "code",
      "source": [
        "nodes = [\"Plaza de Mayo\",\"Perú\",\"Piedras\",\"Lima\",\"Sáenz Peña\",\"Congreso\",\"Pasco-Alberti\",\"Plaza Miserere\",\"Loria\",\"Castro Barros\",\"Río de Janeiro\",\"Acoyte\",\"Primera Junta\",\"Puán\",\"Carabobo\",\"San José de Flores\",\"San Pedrito\",\"Leandro N. Alem\",\"Florida\",\"Carlos Pellegrini\",\"Uruguay\",\"Callao B\",\"Pasteur\",\"Pueyrredón B\",\"Carlos Gardel\",\"Medrano\",\"Angel Gallardo\",\"Malabia\",\"Dorrego\",\"Federico Lacroze\",\"Tronador\",\"Los Incas\",\"Echeverría\",\"Juan Manuel de Rosas\",\"Retiro C\",\"General San Martín\",\"Lavalle\",\"Diagonal Norte\",\"Avenida de Mayo\",\"Moreno\",\"Independencia C\",\"San Juan\",\"Constitución\",\"Catedral\",\"9 de Julio\",\"Tribunales\",\"Callao D\",\"Facultad de Medicina\",\"Pueyrredón D\",\"Agüero\",\"Bulnes\",\"Scalabrini Ortiz\",\"Plaza Italia\",\"Palermo\",\"Ministro Carranza\",\"Olleros\",\"José Hernández\",\"Juramento\",\"Congreso de Tucumán\",\"Retiro E\",\"Catalinas\",\"Correo Central\",\"Bolívar\",\"Belgrano\",\"Independencia E\",\"San José\",\"Entre Ríos\",\"Pichincha\",\"Jujuy\",\"General Urquiza\",\"Boedo\",\"La Plata\",\"José María Moreno\",\"Emilio Mitre\",\"Medalla Milagrosa\",\"Varela\",\"Plaza de los Virreyes\",\"Facultad de Derecho\",\"Las Heras\",\"Santa Fe\",\"Córdoba\",\"Corrientes\",\"Once\",\"Venezuela\",\"Humberto 1\",\"Inclán\",\"Caseros\",\"Parque Patricios\",\"Hospitales\"]"
      ],
      "metadata": {
        "id": "Q5yyJUtg-wus"
      },
      "execution_count": 3,
      "outputs": []
    },
    {
      "cell_type": "code",
      "source": [
        "G = nx.DiGraph()\n",
        "G.add_nodes_from(nodes)"
      ],
      "metadata": {
        "id": "6CNs7YceAv8-"
      },
      "execution_count": 4,
      "outputs": []
    },
    {
      "cell_type": "code",
      "source": [
        "edges = [[\"9 de Julio\",\"Carlos Pellegrini\",3.1000],[\"9 de Julio\",\"Diagonal Norte\",5.4000],[\"Avenida de Mayo\",\"Lima\",3.1000],[\"Bolívar\",\"Catedral\",5.4000],[\"Bolívar\",\"Perú\",3.4000],[\"Carlos Pellegrini\",\"9 de Julio\",3.1000],[\"Carlos Pellegrini\",\"Diagonal Norte\",6.0000],[\"Catedral\",\"Bolívar\",5.4000],[\"Catedral\",\"Perú\",3.1000],[\"Corrientes\",\"Pueyrredón B\",3.1000],[\"Diagonal Norte\",\"9 de Julio\",5.4000],[\"Diagonal Norte\",\"Carlos Pellegrini\",6.0000],[\"Humberto 1\",\"Jujuy\",3.1000],[\"Independencia C\",\"Independencia E\",3.7000],[\"Independencia E\",\"Independencia C\",3.7000],[\"Jujuy\",\"Humberto 1\",3.1000],[\"Lima\",\"Avenida de Mayo\",3.1000],[\"Once\",\"Plaza Miserere\",3.1000],[\"Perú\",\"Bolívar\",3.4000],[\"Perú\",\"Catedral\",3.1000],[\"Plaza Miserere\",\"Once\",3.1000],[\"Pueyrredón B\",\"Corrientes\",3.1000],[\"Pueyrredón D\",\"Santa Fe\",3.1000],[\"Santa Fe\",\"Pueyrredón D\",3.1000],[\"Acoyte\",\"Primera Junta\",1.5500],[\"Acoyte\",\"Río de Janeiro\",1.7833],[\"Pasco-Alberti\",\"Plaza Miserere\",1.5833],[\"Carabobo\",\"Puán\",1.8833],[\"Carabobo\",\"San José de Flores\",1.9333],[\"Castro Barros\",\"Loria\",1.6500],[\"Castro Barros\",\"Río de Janeiro\",2.0000],[\"Congreso\",\"Pasco-Alberti\",1.5833],[\"Congreso\",\"Sáenz Peña\",1.5333],[\"Lima\",\"Piedras\",1.1500],[\"Lima\",\"Sáenz Peña\",1.1667],[\"Loria\",\"Castro Barros\",1.6500],[\"Loria\",\"Plaza Miserere\",2.2833],[\"Pasco-Alberti\",\"Congreso\",1.5833],[\"Perú\",\"Piedras\",1.1333],[\"Perú\",\"Plaza de Mayo\",0.9667],[\"Piedras\",\"Lima\",1.1500],[\"Piedras\",\"Perú\",1.1333],[\"Plaza de Mayo\",\"Perú\",0.9667],[\"Plaza Miserere\",\"Loria\",2.2833],[\"Plaza Miserere\",\"Pasco-Alberti\",1.5833],[\"Primera Junta\",\"Acoyte\",1.5500],[\"Primera Junta\",\"Puán\",1.9333],[\"Puán\",\"Carabobo\",1.8833],[\"Puán\",\"Primera Junta\",1.9333],[\"Río de Janeiro\",\"Acoyte\",1.7833],[\"Río de Janeiro\",\"Castro Barros\",2.0000],[\"Sáenz Peña\",\"Congreso\",1.5333],[\"Sáenz Peña\",\"Lima\",1.1667],[\"San José de Flores\",\"Carabobo\",1.9333],[\"San José de Flores\",\"San Pedrito\",1.7500],[\"San Pedrito\",\"San José de Flores\",1.7500],[\"Angel Gallardo\",\"Malabia\",1.9333],[\"Angel Gallardo\",\"Medrano\",1.9500],[\"Callao B\",\"Pasteur\",1.4333],[\"Callao B\",\"Uruguay\",1.3167],[\"Carlos Gardel\",\"Medrano\",1.9500],[\"Carlos Gardel\",\"Pueyrredón B\",1.4667],[\"Carlos Pellegrini\",\"Florida\",1.4833],[\"Carlos Pellegrini\",\"Uruguay\",1.3167],[\"Dorrego\",\"Federico Lacroze\",1.7167],[\"Dorrego\",\"Malabia\",2.3000],[\"Echeverría\",\"Juan Manuel de Rosas\",1.6167],[\"Echeverría\",\"Los Incas\",1.9167],[\"Federico Lacroze\",\"Dorrego\",1.7167],[\"Federico Lacroze\",\"Tronador\",2.3500],[\"Florida\",\"Carlos Pellegrini\",1.4833],[\"Florida\",\"Leandro N. Alem\",1.1167],[\"Juan Manuel de Rosas\",\"Echeverría\",1.6167],[\"Leandro N. Alem\",\"Florida\",1.1167],[\"Los Incas\",\"Echeverría\",1.9167],[\"Los Incas\",\"Tronador\",1.6500],[\"Malabia\",\"Angel Gallardo\",1.9333],[\"Malabia\",\"Dorrego\",2.3000],[\"Medrano\",\"Angel Gallardo\",1.9500],[\"Medrano\",\"Carlos Gardel\",1.9500],[\"Pasteur\",\"Callao B\",1.4333],[\"Pasteur\",\"Pueyrredón B\",1.3333],[\"Pueyrredón B\",\"Carlos Gardel\",1.4667],[\"Pueyrredón B\",\"Pasteur\",1.3333],[\"Tronador\",\"Federico Lacroze\",2.3500],[\"Tronador\",\"Los Incas\",1.6500],[\"Uruguay\",\"Callao B\",1.3167],[\"Uruguay\",\"Carlos Pellegrini\",1.3167],[\"Avenida de Mayo\",\"Diagonal Norte\",1.6667],[\"Avenida de Mayo\",\"Moreno\",1.3000],[\"Constitución\",\"San Juan\",1.6500],[\"Diagonal Norte\",\"Avenida de Mayo\",1.6667],[\"Diagonal Norte\",\"Lavalle\",1.3500],[\"General San Martín\",\"Lavalle\",2.2500],[\"General San Martín\",\"Retiro C\",1.3000],[\"Independencia C\",\"Moreno\",1.8167],[\"Independencia C\",\"San Juan\",1.5833],[\"Lavalle\",\"Diagonal Norte\",1.3500],[\"Lavalle\",\"General San Martín\",2.2500],[\"Moreno\",\"Avenida de Mayo\",1.3000],[\"Moreno\",\"Independencia C\",1.8167],[\"Retiro C\",\"General San Martín\",1.3000],[\"San Juan\",\"Constitución\",1.6500],[\"San Juan\",\"Independencia C\",1.5833],[\"9 de Julio\",\"Catedral\",1.6833],[\"9 de Julio\",\"Tribunales\",1.3167],[\"Agüero\",\"Bulnes\",1.4333],[\"Agüero\",\"Pueyrredón D\",1.4000],[\"Bulnes\",\"Agüero\",1.4333],[\"Bulnes\",\"Scalabrini Ortiz\",1.4500],[\"Callao D\",\"Facultad de Medicina\",1.3000],[\"Callao D\",\"Tribunales\",1.9833],[\"Catedral\",\"9 de Julio\",1.6833],[\"Congreso de Tucumán\",\"Juramento\",2.1500],[\"Facultad de Medicina\",\"Callao D\",1.3000],[\"Facultad de Medicina\",\"Pueyrredón D\",2.0000],[\"José Hernández\",\"Juramento\",1.5167],[\"José Hernández\",\"Olleros\",2.0000],[\"Juramento\",\"Congreso de Tucumán\",2.1500],[\"Juramento\",\"José Hernández\",1.5167],[\"Ministro Carranza\",\"Olleros\",2.4167],[\"Ministro Carranza\",\"Palermo\",2.1333],[\"Olleros\",\"José Hernández\",2.0000],[\"Olleros\",\"Ministro Carranza\",2.4167],[\"Palermo\",\"Ministro Carranza\",2.1333],[\"Palermo\",\"Plaza Italia\",1.5000],[\"Plaza Italia\",\"Palermo\",1.5000],[\"Plaza Italia\",\"Scalabrini Ortiz\",1.5667],[\"Pueyrredón D\",\"Agüero\",1.4000],[\"Pueyrredón D\",\"Facultad de Medicina\",2.0000],[\"Scalabrini Ortiz\",\"Bulnes\",1.4500],[\"Scalabrini Ortiz\",\"Plaza Italia\",1.5667],[\"Tribunales\",\"9 de Julio\",1.3167],[\"Tribunales\",\"Callao D\",1.9833],[\"Belgrano\",\"Bolívar\",1.5000],[\"Belgrano\",\"Independencia E\",1.5333],[\"Boedo\",\"General Urquiza\",1.6500],[\"Boedo\",\"La Plata\",2.0167],[\"Bolívar\",\"Belgrano\",1.5000],[\"Emilio Mitre\",\"José María Moreno\",2.1167],[\"Emilio Mitre\",\"Medalla Milagrosa\",2.1500],[\"Entre Ríos\",\"Pichincha\",1.3833],[\"Entre Ríos\",\"San José\",1.5000],[\"General Urquiza\",\"Boedo\",1.6500],[\"General Urquiza\",\"Jujuy\",1.6000],[\"Independencia E\",\"Belgrano\",1.5333],[\"Independencia E\",\"San José\",1.8000],[\"José María Moreno\",\"Emilio Mitre\",2.1167],[\"José María Moreno\",\"La Plata\",1.9333],[\"Jujuy\",\"General Urquiza\",1.6000],[\"Jujuy\",\"Pichincha\",1.4000],[\"La Plata\",\"Boedo\",2.0167],[\"La Plata\",\"José María Moreno\",1.9333],[\"Medalla Milagrosa\",\"Emilio Mitre\",2.1500],[\"Medalla Milagrosa\",\"Varela\",1.9500],[\"Pichincha\",\"Entre Ríos\",1.3833],[\"Pichincha\",\"Jujuy\",1.4000],[\"Plaza de los Virreyes\",\"Varela\",1.3333],[\"San José\",\"Entre Ríos\",1.5000],[\"San José\",\"Independencia E\",1.8000],[\"Varela\",\"Medalla Milagrosa\",1.9500],[\"Varela\",\"Plaza de los Virreyes\",1.3333],[\"Caseros\",\"Inclán\",1.6667],[\"Caseros\",\"Parque Patricios\",2.0167],[\"Córdoba\",\"Corrientes\",1.5000],[\"Córdoba\",\"Santa Fe\",1.2167],[\"Corrientes\",\"Córdoba\",1.5000],[\"Corrientes\",\"Once\",1.5000],[\"Facultad de Derecho\",\"Las Heras\",1.6500],[\"Hospitales\",\"Parque Patricios\",1.8667],[\"Humberto 1\",\"Inclán\",1.7000],[\"Humberto 1\",\"Venezuela\",2.0833],[\"Inclán\",\"Caseros\",1.6667],[\"Inclán\",\"Humberto 1\",1.7000],[\"Las Heras\",\"Facultad de Derecho\",1.6500],[\"Las Heras\",\"Santa Fe\",2.0667],[\"Once\",\"Corrientes\",1.5000],[\"Once\",\"Venezuela\",1.6667],[\"Parque Patricios\",\"Caseros\",2.0167],[\"Parque Patricios\",\"Hospitales\",1.8667],[\"Santa Fe\",\"Córdoba\",1.2167],[\"Santa Fe\",\"Las Heras\",2.0667],[\"Venezuela\",\"Humberto 1\",2.0833],[\"Venezuela\",\"Once\",1.6667],[\"Bolívar\",\"Correo Central\",2.3739],[\"Correo Central\",\"Bolívar\",2.3739],[\"Catalinas\",\"Correo Central\",2.0391],[\"Correo Central\",\"Catalinas\",2.0391],[\"Retiro E\",\"Catalinas\",1.6961],[\"Catalinas\",\"Retiro E\",1.6961],[\"Retiro E\",\"Retiro C\",3.1000],[\"Retiro C\",\"Retiro E\",3.1000],[\"Correo Central\",\"Leandro N. Alem\",3.1000],[\"Leandro N. Alem\",\"Correo Central\",3.1000]]\n",
        "for edge in edges:\n",
        "  u,v,weight=edge\n",
        "  G.add_edge(u, v, weight=weight)"
      ],
      "metadata": {
        "id": "-Fm6EjJlA7Yv"
      },
      "execution_count": 6,
      "outputs": []
    },
    {
      "cell_type": "code",
      "source": [
        ""
      ],
      "metadata": {
        "id": "FQiOy74bBgs_"
      },
      "execution_count": null,
      "outputs": []
    }
  ]
}